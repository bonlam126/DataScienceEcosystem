{
 "cells": [
  {
   "cell_type": "markdown",
   "id": "e6a6073c-ba47-451f-ac16-f772eb2adcfd",
   "metadata": {},
   "source": [
    "# Data Science Tools and Ecosystem"
   ]
  },
  {
   "cell_type": "markdown",
   "id": "4c84dc41-9c56-4ced-a44c-ba75eb4a54d0",
   "metadata": {},
   "source": [
    "## In this notebook, Data Science Tools and Ecosystem are summerized."
   ]
  },
  {
   "cell_type": "markdown",
   "id": "fa4efb96-e448-4d06-b45d-09c5294f87d6",
   "metadata": {},
   "source": [
    "### Some of the popular languages that Data Scientists use are:\n",
    "1. Python\n",
    "2. R\n",
    "3. SQL\n",
    "4. Java"
   ]
  },
  {
   "cell_type": "markdown",
   "id": "30e5d117-b557-47f8-a19d-5e44ae3370c4",
   "metadata": {},
   "source": [
    "### Some of the commonly used libraries used by Data Scientists include:\n",
    "1. Pandas\n",
    "2. NumPy\n",
    "3. PyTorch\n",
    "4. Ggplot2"
   ]
  },
  {
   "cell_type": "markdown",
   "id": "afc150f0-8996-4a17-b71d-0644939bbe24",
   "metadata": {},
   "source": [
    "|Data Science Tools|\n",
    "|---|\n",
    "|Jupyter Notebooks|\n",
    "|R Studio|\n",
    "|PyCharm|"
   ]
  },
  {
   "cell_type": "markdown",
   "id": "2f5dd8be-0202-401d-ac08-704b329f306b",
   "metadata": {},
   "source": [
    "### Below are a few examples of evaluating arithmetic expressions in Python"
   ]
  },
  {
   "cell_type": "code",
   "execution_count": 5,
   "id": "069fc488-86e2-4652-a498-9907f58f91bf",
   "metadata": {},
   "outputs": [
    {
     "data": {
      "text/plain": [
       "17"
      ]
     },
     "execution_count": 5,
     "metadata": {},
     "output_type": "execute_result"
    }
   ],
   "source": [
    "# This is a simple arithmetic expression to multiply then add integers\n",
    "(3*4)+5"
   ]
  },
  {
   "cell_type": "code",
   "execution_count": 6,
   "id": "062c0f04-764d-4375-a075-415bbc614164",
   "metadata": {},
   "outputs": [
    {
     "data": {
      "text/plain": [
       "3.3333333333333335"
      ]
     },
     "execution_count": 6,
     "metadata": {},
     "output_type": "execute_result"
    }
   ],
   "source": [
    "# This will convert 200 minutes to hours by diving by 60\n",
    "200/60"
   ]
  },
  {
   "cell_type": "markdown",
   "id": "2e940300-2605-44c2-84bc-1656e4dde9a7",
   "metadata": {},
   "source": [
    "# **Objectives:**\n",
    "- Create Markdown cells\n",
    "- Create Code cells\n",
    "- Create table using Python\n",
    "- List popular languages for Data Science\n",
    "- List common libraries used for Data Science"
   ]
  },
  {
   "cell_type": "markdown",
   "id": "c306001c-8ada-46c7-8533-28ac6268f5aa",
   "metadata": {},
   "source": [
    "## Author: Wing Ping Bonnie Lam"
   ]
  },
  {
   "cell_type": "code",
   "execution_count": null,
   "id": "3e58036e-040b-4b06-b937-c4e5e9e02002",
   "metadata": {},
   "outputs": [],
   "source": []
  }
 ],
 "metadata": {
  "kernelspec": {
   "display_name": "Python 3 (ipykernel)",
   "language": "python",
   "name": "python3"
  },
  "language_info": {
   "codemirror_mode": {
    "name": "ipython",
    "version": 3
   },
   "file_extension": ".py",
   "mimetype": "text/x-python",
   "name": "python",
   "nbconvert_exporter": "python",
   "pygments_lexer": "ipython3",
   "version": "3.12.7"
  }
 },
 "nbformat": 4,
 "nbformat_minor": 5
}
